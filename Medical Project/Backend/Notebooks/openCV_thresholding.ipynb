{
 "cells": [
  {
   "cell_type": "code",
   "execution_count": 1,
   "id": "f017beff-efe6-40e0-9fc7-cdb3c04295f0",
   "metadata": {},
   "outputs": [],
   "source": [
    "import cv2\n",
    "from PIL import Image"
   ]
  },
  {
   "cell_type": "code",
   "execution_count": 2,
   "id": "2110469f-3c14-4bc0-a1b7-eb0c21c689ab",
   "metadata": {},
   "outputs": [
    {
     "data": {
      "text/plain": [
       "array([[206, 206, 206, ..., 185, 185, 185],\n",
       "       [206, 206, 206, ..., 185, 185, 185],\n",
       "       [206, 206, 206, ..., 186, 185, 185],\n",
       "       ...,\n",
       "       [207, 207, 207, ..., 191, 190, 190],\n",
       "       [207, 207, 207, ..., 191, 190, 190],\n",
       "       [207, 207, 207, ..., 191, 191, 190]], dtype=uint8)"
      ]
     },
     "execution_count": 2,
     "metadata": {},
     "output_type": "execute_result"
    }
   ],
   "source": [
    "img = cv2.imread(\"clear_image.jpg\",flags=cv2.IMREAD_GRAYSCALE)\n",
    "img "
   ]
  },
  {
   "cell_type": "code",
   "execution_count": 3,
   "id": "7c41393e-2650-406c-846a-32f6da0007ac",
   "metadata": {},
   "outputs": [],
   "source": [
    "Image.fromarray(img).show()"
   ]
  },
  {
   "cell_type": "code",
   "execution_count": 7,
   "id": "6eb2a830-5cb8-4d12-b5a0-447e3e707691",
   "metadata": {},
   "outputs": [],
   "source": [
    "_, new_img = cv2.threshold(img,150,255,cv2.THRESH_BINARY)"
   ]
  },
  {
   "cell_type": "code",
   "execution_count": 8,
   "id": "3df36974-8507-4e44-b5ce-559cd50c7014",
   "metadata": {},
   "outputs": [],
   "source": [
    "Image.fromarray(new_img).show()"
   ]
  },
  {
   "cell_type": "code",
   "execution_count": 10,
   "id": "e23e0b79-45b6-4664-8963-6588c77bf37e",
   "metadata": {},
   "outputs": [],
   "source": [
    "img2 = cv2.imread(\"dark_image.jpg\",flags=cv2.IMREAD_GRAYSCALE)\n",
    "_, new_img2 = cv2.threshold(img2,150,255,cv2.THRESH_BINARY)"
   ]
  },
  {
   "cell_type": "code",
   "execution_count": 11,
   "id": "d1ff0053-2fc5-40b6-a843-7edce80ed91f",
   "metadata": {},
   "outputs": [],
   "source": [
    "Image.fromarray(new_img2).show()"
   ]
  },
  {
   "cell_type": "code",
   "execution_count": 12,
   "id": "2f2ae6ad-0f99-4804-b4b0-14c0909573a5",
   "metadata": {},
   "outputs": [],
   "source": [
    "#adaptive thresolding as simple thresolding doesnot work fine it creates a darker image on the shadow resulting in the data loss"
   ]
  },
  {
   "cell_type": "code",
   "execution_count": 14,
   "id": "cff53d60-c634-40d6-9691-f9ebbcf676db",
   "metadata": {},
   "outputs": [],
   "source": [
    "#it provides 2 AdaptiveMethods below \n",
    "#adaptive threshold based on mean_c value -> value will be mean of the neighbourhoob area minus the const C\n",
    "#adaptive threshold based on gaussian_c -> value is gaussian-weighted sum of the neighbourhood values minus the const C \n",
    "#parameters it takes are -> (source_image, maxValue, adaptiveMethod, thresoldType,blocksize, C(constant))\n",
    "new_image = cv2.adaptiveThreshold(\n",
    "    img2, 255,\n",
    "    cv2.ADAPTIVE_THRESH_GAUSSIAN_C,\n",
    "    cv2.THRESH_BINARY,\n",
    "    61,\n",
    "    11\n",
    ")"
   ]
  },
  {
   "cell_type": "code",
   "execution_count": 16,
   "id": "82ba6345-fd58-4986-92e4-04891f526b4a",
   "metadata": {},
   "outputs": [],
   "source": [
    "Image.fromarray(new_image).show()"
   ]
  },
  {
   "cell_type": "code",
   "execution_count": null,
   "id": "f717fc39-7cbd-4b9e-a4f2-4860db14f7a8",
   "metadata": {},
   "outputs": [],
   "source": []
  },
  {
   "cell_type": "code",
   "execution_count": null,
   "id": "c9f04f9a-be37-46ae-a065-bfc0c07ff1ec",
   "metadata": {},
   "outputs": [],
   "source": []
  }
 ],
 "metadata": {
  "kernelspec": {
   "display_name": "Python 3 (ipykernel)",
   "language": "python",
   "name": "python3"
  },
  "language_info": {
   "codemirror_mode": {
    "name": "ipython",
    "version": 3
   },
   "file_extension": ".py",
   "mimetype": "text/x-python",
   "name": "python",
   "nbconvert_exporter": "python",
   "pygments_lexer": "ipython3",
   "version": "3.10.13"
  }
 },
 "nbformat": 4,
 "nbformat_minor": 5
}
