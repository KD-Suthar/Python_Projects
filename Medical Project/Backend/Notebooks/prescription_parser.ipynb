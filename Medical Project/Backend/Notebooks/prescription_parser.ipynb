{
 "cells": [
  {
   "cell_type": "code",
   "execution_count": 20,
   "id": "53d1fb92-fa15-4143-9059-9da0804e6d58",
   "metadata": {},
   "outputs": [],
   "source": [
    "from pdf2image import convert_from_path\n",
    "import pytesseract as pyst\n",
    "import numpy as np \n",
    "import cv2\n",
    "from PIL import Image"
   ]
  },
  {
   "cell_type": "code",
   "execution_count": 21,
   "id": "2c32f601-7152-4c4a-a9c8-bd5e618aae67",
   "metadata": {},
   "outputs": [],
   "source": [
    "pages = convert_from_path('docs/prescription/pre_1.pdf', poppler_path = r'C:\\poppler-24.02.0\\Library\\bin')"
   ]
  },
  {
   "cell_type": "code",
   "execution_count": 22,
   "id": "428ca2e6-e32b-4eed-b021-9a75424ef68a",
   "metadata": {},
   "outputs": [
    {
     "data": {
      "text/plain": [
       "[<PIL.PpmImagePlugin.PpmImageFile image mode=RGB size=1700x2200>]"
      ]
     },
     "execution_count": 22,
     "metadata": {},
     "output_type": "execute_result"
    }
   ],
   "source": [
    "#pages is an array of all the PIL images here we are reading one sample pdf file so length of pages is 1\n",
    "pages"
   ]
  },
  {
   "cell_type": "code",
   "execution_count": 23,
   "id": "85554656-0294-4dd4-bc08-7f8e23e9dadd",
   "metadata": {},
   "outputs": [],
   "source": [
    "pages[0].show()"
   ]
  },
  {
   "cell_type": "code",
   "execution_count": 24,
   "id": "17540631-781e-4529-9402-872cc281e917",
   "metadata": {},
   "outputs": [
    {
     "name": "stdout",
     "output_type": "stream",
     "text": [
      "Dr John Smith, M.D\n",
      "2 Non-Important Street,\n",
      "New York, Phone (000)-111-2222\n",
      "\n",
      "Name: Maria Sharapova Date: 5/11/2022\n",
      "\n",
      "Address: 9 tennis court, new Russia, DC\n",
      "\n",
      "—moemenmannenneneneunmnnnnennieesisiyoinnitniahadaaanniihsnseneneneeeernnttnnneenrenen:\n",
      "\n",
      "Prednisone 20 mg\n",
      "Lialda 2.4 gram\n",
      "\n",
      "3 days,\n",
      "\n",
      "or 1 month\n",
      "\n"
     ]
    }
   ],
   "source": [
    "pytesseract.pytesseract.tesseract_cmd=r'C:\\Program Files\\Tesseract-OCR\\tesseract.exe'\n",
    "text = pyst.image_to_string(pages[0], lang='eng')\n",
    "print(text)"
   ]
  },
  {
   "cell_type": "code",
   "execution_count": 25,
   "id": "cef44b22-45bd-4358-b8c3-7e4e603333bb",
   "metadata": {},
   "outputs": [],
   "source": [
    "def preprocess_image(img):\n",
    "    gray = cv2.cvtColor(np.array(img), cv2.COLOR_BGR2GRAY)\n",
    "    resized_image = cv2.resize(gray, None, fx=1.5, fy=1.5, interpolation=cv2.INTER_LINEAR)\n",
    "    processed_image = cv2.adaptiveThreshold(resized_image, 255,\n",
    "                                            cv2.ADAPTIVE_THRESH_GAUSSIAN_C,\n",
    "                                            cv2.THRESH_BINARY,\n",
    "                                            61,\n",
    "                                            11\n",
    "                                           )\n",
    "    return processed_image"
   ]
  },
  {
   "cell_type": "code",
   "execution_count": 26,
   "id": "68980786-8b84-4110-9e2f-3ca37814ccd1",
   "metadata": {},
   "outputs": [],
   "source": [
    "image = preprocess_image(pages[0])\n"
   ]
  },
  {
   "cell_type": "code",
   "execution_count": 27,
   "id": "f8689ac9-5da8-4f1f-9d65-c7fb35633f23",
   "metadata": {},
   "outputs": [],
   "source": [
    "Image.fromarray(image).show()"
   ]
  },
  {
   "cell_type": "code",
   "execution_count": 28,
   "id": "916bef2b-ff66-40e2-9989-9ba54623d7ed",
   "metadata": {},
   "outputs": [
    {
     "name": "stdout",
     "output_type": "stream",
     "text": [
      "Dr John Smith, M.D\n",
      "2 Non-Important Street,\n",
      "New York, Phone (000)-111-2222\n",
      "\n",
      "Name: Marta Sharapova Date: 5/11/2022\n",
      "\n",
      "Address: 9 tennis court, new Russia, DC\n",
      "\n",
      "K\n",
      "\n",
      "Prednisone 20 mg\n",
      "Lialda 2.4 gram\n",
      "\n",
      "Directions:\n",
      "\n",
      "Prednisone, Taper 5 mig every 3 days,\n",
      "Finish in 2.5 weeks a\n",
      "Lialda - take 2 pill everyday for 1 month\n",
      "\n",
      "Refill: 2 times\n",
      "\n"
     ]
    }
   ],
   "source": [
    "new_text = pyst.image_to_string(image, lang='eng')\n",
    "print(new_text)"
   ]
  },
  {
   "cell_type": "code",
   "execution_count": 30,
   "id": "1f8e62d8-b61a-4892-ba50-b0e781605799",
   "metadata": {},
   "outputs": [],
   "source": [
    "new_pages = convert_from_path('docs/prescription/pre_2.pdf', poppler_path = r'C:\\poppler-24.02.0\\Library\\bin')"
   ]
  },
  {
   "cell_type": "code",
   "execution_count": 33,
   "id": "eb48f50c-e974-4638-b6a8-ad7bd0be1a48",
   "metadata": {},
   "outputs": [],
   "source": [
    "new_pages[0].show()"
   ]
  },
  {
   "cell_type": "code",
   "execution_count": 34,
   "id": "f78e4b3c-2a43-430e-8c28-f9de12c9bc94",
   "metadata": {},
   "outputs": [
    {
     "name": "stdout",
     "output_type": "stream",
     "text": [
      "Dr John >mith, M.D\n",
      "\n",
      "2 Non-Important street,\n",
      "New York, Phone (900)-323- ~2222\n",
      "\n",
      "Name:  Virat Kohli Date: 2/05/2022\n",
      "\n",
      "Address: 2 cricket blvd, New Delhi\n",
      "\n",
      "| Omeprazole 40 mg\n",
      "\n",
      "Directions: Use two tablets daily for three months\n",
      "\n",
      "Refill: 3 times\n",
      "\n"
     ]
    }
   ],
   "source": [
    "new_image = preprocess_image(new_pages[0])\n",
    "patient_data = pyst.image_to_string(new_image, lang='eng')\n",
    "print(patient_data)"
   ]
  },
  {
   "cell_type": "code",
   "execution_count": null,
   "id": "40a57cef-40e8-432b-a748-0ef12d1177cf",
   "metadata": {},
   "outputs": [],
   "source": []
  },
  {
   "cell_type": "code",
   "execution_count": null,
   "id": "8bcb4bb1-64b7-4077-bf9e-eb00de7f985c",
   "metadata": {},
   "outputs": [],
   "source": []
  },
  {
   "cell_type": "code",
   "execution_count": null,
   "id": "315c27a6-8655-490f-af90-fb493fc022e8",
   "metadata": {},
   "outputs": [],
   "source": []
  }
 ],
 "metadata": {
  "kernelspec": {
   "display_name": "Python 3 (ipykernel)",
   "language": "python",
   "name": "python3"
  },
  "language_info": {
   "codemirror_mode": {
    "name": "ipython",
    "version": 3
   },
   "file_extension": ".py",
   "mimetype": "text/x-python",
   "name": "python",
   "nbconvert_exporter": "python",
   "pygments_lexer": "ipython3",
   "version": "3.10.13"
  }
 },
 "nbformat": 4,
 "nbformat_minor": 5
}
